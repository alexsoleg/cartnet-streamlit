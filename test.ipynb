{
 "cells": [
  {
   "cell_type": "code",
   "execution_count": 1,
   "metadata": {},
   "outputs": [],
   "source": [
    "from ase.io import read"
   ]
  },
  {
   "cell_type": "code",
   "execution_count": 2,
   "metadata": {},
   "outputs": [
    {
     "name": "stdout",
     "output_type": "stream",
     "text": [
      "Atoms(symbols='C24H32N8O8S4', pbc=True, cell=[[7.84, 0.0, 0.0], [0.10592431760794835, 10.463463864272638, 0.0], [1.8943683932444588, 4.616465726146425, 9.254394015276839]], spacegroup_kinds=...)\n"
     ]
    },
    {
     "name": "stderr",
     "output_type": "stream",
     "text": [
      "/Users/jou/anaconda3/envs/CartNet_streamlit/lib/python3.9/site-packages/ase/io/cif.py:408: UserWarning: crystal system 'triclinic' is not interpreted for space group Spacegroup(2, setting=1). This may result in wrong setting!\n",
      "  warnings.warn(\n"
     ]
    }
   ],
   "source": [
    "atoms = read(\"ABABEM.cif\")\n",
    "print(atoms)"
   ]
  },
  {
   "cell_type": "code",
   "execution_count": 3,
   "metadata": {},
   "outputs": [
    {
     "data": {
      "text/plain": [
       "Atoms(symbols='C24H32N8O8S4', pbc=True, cell=[[7.84, 0.0, 0.0], [0.10592431760794835, 10.463463864272638, 0.0], [1.8943683932444588, 4.616465726146425, 9.254394015276839]], spacegroup_kinds=...)"
      ]
     },
     "execution_count": 3,
     "metadata": {},
     "output_type": "execute_result"
    }
   ],
   "source": [
    "atoms"
   ]
  },
  {
   "cell_type": "code",
   "execution_count": 4,
   "metadata": {},
   "outputs": [
    {
     "data": {
      "text/plain": [
       "0.0"
      ]
     },
     "execution_count": 4,
     "metadata": {},
     "output_type": "execute_result"
    }
   ],
   "source": [
    "atoms.get_temperature()"
   ]
  },
  {
   "cell_type": "code",
   "execution_count": 5,
   "metadata": {},
   "outputs": [
    {
     "data": {
      "text/plain": [
       "76"
      ]
     },
     "execution_count": 5,
     "metadata": {},
     "output_type": "execute_result"
    }
   ],
   "source": [
    "len(atoms.positions)\n"
   ]
  },
  {
   "cell_type": "code",
   "execution_count": 6,
   "metadata": {},
   "outputs": [
    {
     "data": {
      "text/plain": [
       "array([[ 7.24196156,  8.82893871,  0.37813454],\n",
       "       [ 2.59833115,  6.25099088,  8.87625948],\n",
       "       [ 5.74520279,  7.04629193,  1.65746197],\n",
       "       [ 4.09508992,  8.03363766,  7.59693205],\n",
       "       [ 3.88893202, 13.65415447,  9.05172279],\n",
       "       [ 5.95136069,  1.42577512,  0.20267123],\n",
       "       [ 7.95613575,  6.58139981,  1.39463718],\n",
       "       [ 1.88415697,  8.49852978,  7.85975684],\n",
       "       [ 1.30660262,  7.2300632 ,  1.00225087],\n",
       "       [ 8.53369009,  7.84986639,  8.25214314],\n",
       "       [ 2.43029479,  6.34069224,  0.71073746],\n",
       "       [ 7.40999792,  8.73923735,  8.54365655],\n",
       "       [ 3.23001749,  6.86481536,  0.54693469],\n",
       "       [ 6.61027522,  8.21511423,  8.70745933],\n",
       "       [ 4.13385219, 10.43771939,  9.16925359],\n",
       "       [ 5.70644052,  4.6422102 ,  0.08514042],\n",
       "       [ 2.65875695,  5.41525897,  1.88234374],\n",
       "       [ 7.18153576,  9.66467062,  7.37205027],\n",
       "       [ 2.96160643,  5.92841868,  2.64675669],\n",
       "       [ 6.87868628,  9.15151091,  6.60763733],\n",
       "       [ 3.34980144,  4.77258123,  1.65746197],\n",
       "       [ 6.49049127, 10.30734836,  7.59693205],\n",
       "       [ 1.38321328,  4.6822099 ,  2.23771247],\n",
       "       [ 8.45707943, 10.39771969,  7.01668154],\n",
       "       [ 1.12697273,  4.10279256,  1.50198815],\n",
       "       [ 8.71331998, 10.97713703,  7.75240587],\n",
       "       [ 1.53569557,  4.12652717,  3.01785789],\n",
       "       [ 8.30459714, 10.95340242,  6.23653613],\n",
       "       [ 8.11080244,  5.65205703,  2.52274781],\n",
       "       [ 1.72949027,  9.42787256,  6.73164621],\n",
       "       [ 7.28255886,  5.16766373,  2.6634146 ],\n",
       "       [ 2.55773386,  9.91226586,  6.59097942],\n",
       "       [ 8.31164072,  6.15029201,  3.33065641],\n",
       "       [ 1.52865199,  8.92963758,  5.92373761],\n",
       "       [ 6.83914636,  7.3445829 ,  1.25489583],\n",
       "       [ 3.00114635,  7.73534669,  7.99949819],\n",
       "       [ 1.12690237,  8.39173725,  0.33778538],\n",
       "       [ 8.71339034,  6.68819234,  8.91660863],\n",
       "       [ 2.44640419,  2.97444638,  5.80120943],\n",
       "       [ 7.39388852, 12.10548321,  3.45318458],\n",
       "       [ 4.4911694 , 11.74743122,  6.46697054],\n",
       "       [ 5.34912331,  3.33249837,  2.78742348],\n",
       "       [ 2.29737287,  5.59759486,  5.35644326],\n",
       "       [ 7.54291985,  9.48233473,  3.89795076],\n",
       "       [ 4.9405513 ,  3.46814525,  6.12178164],\n",
       "       [ 4.89974142, 11.61178434,  3.13261237],\n",
       "       [ 4.32026664,  4.72147931,  5.95150079],\n",
       "       [ 5.52002607, 10.35845028,  3.30289322],\n",
       "       [ 5.16961771,  5.76910397,  5.38143012],\n",
       "       [ 4.670675  ,  9.31082562,  3.8729639 ],\n",
       "       [ 4.70010986,  6.61738365,  5.40178979],\n",
       "       [ 5.14018285,  8.46254594,  3.85260423],\n",
       "       [ 5.37430734,  5.55845747,  4.4578416 ],\n",
       "       [ 4.46598538,  9.52147212,  4.79655242],\n",
       "       [ 6.44096926,  5.87455854,  6.17175537],\n",
       "       [ 3.39932345,  9.20537105,  3.08263865],\n",
       "       [ 6.24147642,  6.20787288,  7.06017719],\n",
       "       [ 3.59881629,  8.87205671,  2.19421682],\n",
       "       [ 7.03709015,  6.50801815,  5.74050061],\n",
       "       [ 2.80320256,  8.57191144,  3.51389341],\n",
       "       [ 7.12562684,  4.53588415,  6.28003178],\n",
       "       [ 2.71466587, 10.54404544,  2.97436224],\n",
       "       [ 7.91669966,  4.62046741,  6.83344454],\n",
       "       [ 1.92359305, 10.45946218,  2.42094947],\n",
       "       [ 7.40443248,  4.24242346,  5.39808803],\n",
       "       [ 2.43586024, 10.83750613,  3.85630599],\n",
       "       [ 6.19374068,  3.50697145,  6.88341827],\n",
       "       [ 3.64655203, 11.57295814,  2.37097575],\n",
       "       [ 6.72067891, 13.09692027,  6.86490948],\n",
       "       [ 3.1196138 ,  1.98300932,  2.38948453],\n",
       "       [ 6.11493429, 14.198285  ,  7.80793223],\n",
       "       [ 3.72535842,  0.88164459,  1.44646178],\n",
       "       [ 4.19915942, 12.88664924,  6.18748784],\n",
       "       [ 5.64113329,  2.19328035,  3.06690618],\n",
       "       [ 2.99227683,  4.65893754,  5.66461458],\n",
       "       [ 6.84801588, 10.42099205,  3.58977944]])"
      ]
     },
     "execution_count": 6,
     "metadata": {},
     "output_type": "execute_result"
    }
   ],
   "source": [
    "atoms.positions"
   ]
  },
  {
   "cell_type": "code",
   "execution_count": 7,
   "metadata": {},
   "outputs": [
    {
     "data": {
      "text/plain": [
       "array([16, 16,  8,  8,  8,  8,  7,  7,  7,  7,  6,  6,  1,  1,  1,  1,  6,\n",
       "        6,  1,  1,  1,  1,  6,  6,  1,  1,  1,  1,  6,  6,  1,  1,  1,  1,\n",
       "        6,  6,  6,  6, 16, 16,  8,  8,  8,  8,  7,  7,  7,  7,  6,  6,  1,\n",
       "        1,  1,  1,  6,  6,  1,  1,  1,  1,  6,  6,  1,  1,  1,  1,  6,  6,\n",
       "        1,  1,  1,  1,  6,  6,  6,  6])"
      ]
     },
     "execution_count": 7,
     "metadata": {},
     "output_type": "execute_result"
    }
   ],
   "source": [
    "atoms.get_atomic_numbers()\n"
   ]
  },
  {
   "cell_type": "code",
   "execution_count": 8,
   "metadata": {},
   "outputs": [],
   "source": [
    "from CifFile import ReadCif\n",
    "cif = ReadCif(\"ABABEM.cif\")\n",
    "cif_data = cif.first_block()"
   ]
  },
  {
   "cell_type": "code",
   "execution_count": 9,
   "metadata": {},
   "outputs": [
    {
     "data": {
      "text/plain": [
       "293.0"
      ]
     },
     "execution_count": 9,
     "metadata": {},
     "output_type": "execute_result"
    }
   ],
   "source": [
    "if \"_diffrn_ambient_temperature\" in cif_data.keys():\n",
    "    temperature = float(cif_data[\"_diffrn_ambient_temperature\"])\n",
    "else:\n",
    "    temperature = None\n",
    "temperature\n"
   ]
  },
  {
   "cell_type": "code",
   "execution_count": 11,
   "metadata": {},
   "outputs": [
    {
     "data": {
      "text/plain": [
       "Atoms(symbols='C24H32N8O8S4', pbc=True, cell=[[7.84, 0.0, 0.0], [0.10592431760794835, 10.463463864272638, 0.0], [1.8943683932444588, 4.616465726146425, 9.254394015276839]], spacegroup_kinds=...)"
      ]
     },
     "execution_count": 11,
     "metadata": {},
     "output_type": "execute_result"
    }
   ],
   "source": [
    "atoms"
   ]
  },
  {
   "cell_type": "code",
   "execution_count": 29,
   "metadata": {},
   "outputs": [
    {
     "data": {
      "text/plain": [
       "16"
      ]
     },
     "execution_count": 29,
     "metadata": {},
     "output_type": "execute_result"
    }
   ],
   "source": [
    "atoms[0].number"
   ]
  },
  {
   "cell_type": "code",
   "execution_count": 12,
   "metadata": {},
   "outputs": [
    {
     "data": {
      "text/plain": [
       "array([[ 7.84      ,  0.        ,  0.        ],\n",
       "       [ 0.10592432, 10.46346386,  0.        ],\n",
       "       [ 1.89436839,  4.61646573,  9.25439402]])"
      ]
     },
     "execution_count": 12,
     "metadata": {},
     "output_type": "execute_result"
    }
   ],
   "source": [
    "atoms.cell.array"
   ]
  },
  {
   "cell_type": "code",
   "execution_count": 19,
   "metadata": {},
   "outputs": [
    {
     "data": {
      "text/plain": [
       "Data(x=[76], pos=[76, 3], temperature_og=[1], temperature=[1], cell=[1, 3, 3], cart_dist=[3886], cart_dir=[3886, 3], edge_index=[2, 3886], non_H_mask=[76])"
      ]
     },
     "execution_count": 19,
     "metadata": {},
     "output_type": "execute_result"
    }
   ],
   "source": [
    "from torch_geometric.data import Data, Batch\n",
    "import torch\n",
    "import numpy as np\n",
    "from utils import radius_graph_pbc\n",
    "\n",
    "mean_temp = torch.tensor(192.1785) #training temp mean\n",
    "std_temp = torch.tensor(81.2135) #training temp std\n",
    "\n",
    "data = Data()\n",
    "data.x = torch.tensor(atoms.get_atomic_numbers(), dtype=torch.float32)\n",
    "data.pos = torch.tensor(atoms.positions, dtype=torch.float32)\n",
    "data.temperature_og = torch.tensor([temperature], dtype=torch.float32)\n",
    "data.temperature = (data.temperature_og - mean_temp) / std_temp\n",
    "data.cell = torch.tensor(atoms.cell.array, dtype=torch.float32).unsqueeze(0)\n",
    "\n",
    "data.pbc = torch.tensor([True, True, True])\n",
    "data.natoms = len(atoms)\n",
    "batch = Batch.from_data_list([data])\n",
    "\n",
    "edge_index, _, _, edge_attr = radius_graph_pbc(batch, 5.0, 64)\n",
    "data.cart_dist = torch.norm(edge_attr, dim=-1)\n",
    "data.cart_dir = torch.nn.functional.normalize(edge_attr, dim=-1)\n",
    "data.edge_index = edge_index\n",
    "data.non_H_mask = data.x != 1\n",
    "delattr(data, \"pbc\")\n",
    "delattr(data, \"natoms\")\n",
    "data\n"
   ]
  },
  {
   "cell_type": "code",
   "execution_count": null,
   "metadata": {},
   "outputs": [],
   "source": []
  },
  {
   "cell_type": "code",
   "execution_count": 20,
   "metadata": {},
   "outputs": [
    {
     "data": {
      "text/plain": [
       "DataBatch(x=[76], pos=[76, 3], temperature_og=[1], temperature=[1], cell=[1, 3, 3], cart_dist=[3886], cart_dir=[3886, 3], edge_index=[2, 3886], non_H_mask=[76], batch=[76], ptr=[2])"
      ]
     },
     "execution_count": 20,
     "metadata": {},
     "output_type": "execute_result"
    }
   ],
   "source": [
    "batch = Batch.from_data_list([data])\n",
    "batch"
   ]
  },
  {
   "cell_type": "code",
   "execution_count": 25,
   "metadata": {},
   "outputs": [
    {
     "ename": "ValueError",
     "evalue": "Array \"adp\" has wrong shape (76, 3, 3) != (76,).",
     "output_type": "error",
     "traceback": [
      "\u001b[0;31m---------------------------------------------------------------------------\u001b[0m",
      "\u001b[0;31mValueError\u001b[0m                                Traceback (most recent call last)",
      "Cell \u001b[0;32mIn[25], line 1\u001b[0m\n\u001b[0;32m----> 1\u001b[0m \u001b[43matoms\u001b[49m\u001b[38;5;241;43m.\u001b[39;49m\u001b[43mset_array\u001b[49m\u001b[43m(\u001b[49m\u001b[38;5;124;43m\"\u001b[39;49m\u001b[38;5;124;43madp\u001b[39;49m\u001b[38;5;124;43m\"\u001b[39;49m\u001b[43m,\u001b[49m\u001b[43m \u001b[49m\u001b[43mnp\u001b[49m\u001b[38;5;241;43m.\u001b[39;49m\u001b[43mones\u001b[49m\u001b[43m(\u001b[49m\u001b[43m(\u001b[49m\u001b[38;5;28;43mlen\u001b[39;49m\u001b[43m(\u001b[49m\u001b[43matoms\u001b[49m\u001b[43m)\u001b[49m\u001b[43m,\u001b[49m\u001b[38;5;241;43m3\u001b[39;49m\u001b[43m,\u001b[49m\u001b[38;5;241;43m3\u001b[39;49m\u001b[43m)\u001b[49m\u001b[43m)\u001b[49m\u001b[43m \u001b[49m\u001b[38;5;241;43m*\u001b[39;49m\u001b[43m \u001b[49m\u001b[38;5;241;43m0.01\u001b[39;49m\u001b[43m)\u001b[49m\n",
      "File \u001b[0;32m~/anaconda3/envs/CartNet_streamlit/lib/python3.9/site-packages/ase/atoms.py:528\u001b[0m, in \u001b[0;36mAtoms.set_array\u001b[0;34m(self, name, a, dtype, shape)\u001b[0m\n\u001b[1;32m    526\u001b[0m a \u001b[38;5;241m=\u001b[39m np\u001b[38;5;241m.\u001b[39masarray(a)\n\u001b[1;32m    527\u001b[0m \u001b[38;5;28;01mif\u001b[39;00m a\u001b[38;5;241m.\u001b[39mshape \u001b[38;5;241m!=\u001b[39m b\u001b[38;5;241m.\u001b[39mshape:\n\u001b[0;32m--> 528\u001b[0m     \u001b[38;5;28;01mraise\u001b[39;00m \u001b[38;5;167;01mValueError\u001b[39;00m(\n\u001b[1;32m    529\u001b[0m         \u001b[38;5;124mf\u001b[39m\u001b[38;5;124m'\u001b[39m\u001b[38;5;124mArray \u001b[39m\u001b[38;5;124m\"\u001b[39m\u001b[38;5;132;01m{\u001b[39;00mname\u001b[38;5;132;01m}\u001b[39;00m\u001b[38;5;124m\"\u001b[39m\u001b[38;5;124m has wrong shape \u001b[39m\u001b[38;5;124m'\u001b[39m\n\u001b[1;32m    530\u001b[0m         \u001b[38;5;124mf\u001b[39m\u001b[38;5;124m'\u001b[39m\u001b[38;5;132;01m{\u001b[39;00ma\u001b[38;5;241m.\u001b[39mshape\u001b[38;5;132;01m}\u001b[39;00m\u001b[38;5;124m != \u001b[39m\u001b[38;5;132;01m{\u001b[39;00mb\u001b[38;5;241m.\u001b[39mshape\u001b[38;5;132;01m}\u001b[39;00m\u001b[38;5;124m.\u001b[39m\u001b[38;5;124m'\u001b[39m)\n\u001b[1;32m    531\u001b[0m b[:] \u001b[38;5;241m=\u001b[39m a\n",
      "\u001b[0;31mValueError\u001b[0m: Array \"adp\" has wrong shape (76, 3, 3) != (76,)."
     ]
    }
   ],
   "source": [
    "atoms.set_array(\"adp\", np.ones((len(atoms),3,3)) * 0.01)"
   ]
  },
  {
   "cell_type": "code",
   "execution_count": 23,
   "metadata": {},
   "outputs": [
    {
     "data": {
      "text/plain": [
       "array([0.01, 0.01, 0.01, 0.01, 0.01, 0.01, 0.01, 0.01, 0.01, 0.01, 0.01,\n",
       "       0.01, 0.01, 0.01, 0.01, 0.01, 0.01, 0.01, 0.01, 0.01, 0.01, 0.01,\n",
       "       0.01, 0.01, 0.01, 0.01, 0.01, 0.01, 0.01, 0.01, 0.01, 0.01, 0.01,\n",
       "       0.01, 0.01, 0.01, 0.01, 0.01, 0.01, 0.01, 0.01, 0.01, 0.01, 0.01,\n",
       "       0.01, 0.01, 0.01, 0.01, 0.01, 0.01, 0.01, 0.01, 0.01, 0.01, 0.01,\n",
       "       0.01, 0.01, 0.01, 0.01, 0.01, 0.01, 0.01, 0.01, 0.01, 0.01, 0.01,\n",
       "       0.01, 0.01, 0.01, 0.01, 0.01, 0.01, 0.01, 0.01, 0.01, 0.01])"
      ]
     },
     "execution_count": 23,
     "metadata": {},
     "output_type": "execute_result"
    }
   ],
   "source": [
    "atoms.get_array(\"adp\")"
   ]
  },
  {
   "cell_type": "code",
   "execution_count": 49,
   "metadata": {},
   "outputs": [],
   "source": [
    "import numpy as np"
   ]
  },
  {
   "cell_type": "code",
   "execution_count": 51,
   "metadata": {},
   "outputs": [
    {
     "data": {
      "text/plain": [
       "'2.0.2'"
      ]
     },
     "execution_count": 51,
     "metadata": {},
     "output_type": "execute_result"
    }
   ],
   "source": [
    "np.__version__"
   ]
  },
  {
   "cell_type": "code",
   "execution_count": 52,
   "metadata": {},
   "outputs": [
    {
     "name": "stdout",
     "output_type": "stream",
     "text": [
      "Collecting numpy<2\n",
      "  Downloading numpy-1.26.4-cp39-cp39-macosx_11_0_arm64.whl.metadata (61 kB)\n",
      "Downloading numpy-1.26.4-cp39-cp39-macosx_11_0_arm64.whl (14.0 MB)\n",
      "\u001b[2K   \u001b[90m━━━━━━━━━━━━━━━━━━━━━━━━━━━━━━━━━━━━━━━━\u001b[0m \u001b[32m14.0/14.0 MB\u001b[0m \u001b[31m4.5 MB/s\u001b[0m eta \u001b[36m0:00:00\u001b[0m00:01\u001b[0m00:01\u001b[0m\n",
      "\u001b[?25hInstalling collected packages: numpy\n",
      "  Attempting uninstall: numpy\n",
      "    Found existing installation: numpy 2.0.2\n",
      "    Uninstalling numpy-2.0.2:\n",
      "      Successfully uninstalled numpy-2.0.2\n",
      "Successfully installed numpy-1.26.4\n"
     ]
    }
   ],
   "source": [
    "!pip install \"numpy<2\""
   ]
  },
  {
   "cell_type": "code",
   "execution_count": null,
   "metadata": {},
   "outputs": [],
   "source": []
  }
 ],
 "metadata": {
  "kernelspec": {
   "display_name": "CartNet_streamlit",
   "language": "python",
   "name": "python3"
  },
  "language_info": {
   "codemirror_mode": {
    "name": "ipython",
    "version": 3
   },
   "file_extension": ".py",
   "mimetype": "text/x-python",
   "name": "python",
   "nbconvert_exporter": "python",
   "pygments_lexer": "ipython3",
   "version": "3.9.20"
  }
 },
 "nbformat": 4,
 "nbformat_minor": 2
}
